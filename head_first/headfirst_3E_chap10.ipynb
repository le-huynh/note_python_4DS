{
 "cells": [
  {
   "cell_type": "markdown",
   "metadata": {},
   "source": [
    "### convert the data into a dictionary"
   ]
  },
  {
   "cell_type": "code",
   "execution_count": 2,
   "metadata": {},
   "outputs": [],
   "source": [
    "import gazpacho\n",
    "\n",
    "# web address\n",
    "URL = \"https://en.wikipedia.org/wiki/List_of_world_records_in_swimming\"\n",
    "# use `gazpacho` to retrieve raw HTML from URL web address\n",
    "html = gazpacho.get(URL)\n",
    "# passing the raw HTML string into the \"Soup\" constructor creates a parsed representation of the HTML\n",
    "soup = gazpacho.Soup(html)\n",
    "# search for tags of interest\n",
    "tables = soup.find(\"table\", mode=\"all\")"
   ]
  },
  {
   "cell_type": "code",
   "execution_count": 3,
   "metadata": {},
   "outputs": [],
   "source": [
    "RECORDS = (0, 2, 4, 5)\n",
    "COURSES = (\"LC Men\", \"LC Women\", \"SC Men\", \"SC Women\")\n",
    "\n",
    "records = {}\n",
    "for table, course in zip(RECORDS, COURSES):\n",
    "    records[course] = {}\n",
    "    for row in tables[table].find(\"tr\", mode=\"all\")[1:]:\n",
    "        columns = row.find(\"td\", mode=\"all\")\n",
    "        event = columns[0].text\n",
    "        time = columns[1].text\n",
    "        records[course][event] = time"
   ]
  },
  {
   "cell_type": "code",
   "execution_count": 5,
   "metadata": {},
   "outputs": [
    {
     "data": {
      "text/plain": [
       "{'LC Men': {'50m freestyle': '20.91',\n",
       "  '100m freestyle': '46.86',\n",
       "  '200m freestyle': '1:42.00',\n",
       "  '400m freestyle': '3:40.07',\n",
       "  '800m freestyle': '7:32.12',\n",
       "  '1500m freestyle': '14:31.02',\n",
       "  '50m backstroke': '23.55',\n",
       "  '100m backstroke': '51.60',\n",
       "  '200m backstroke': '1:51.92',\n",
       "  '50m breaststroke': '25.95',\n",
       "  '100m breaststroke': '56.88',\n",
       "  '200m breaststroke': '2:05.48',\n",
       "  '50m butterfly': '22.27',\n",
       "  '100m butterfly': '49.45',\n",
       "  '200m butterfly': '1:50.34',\n",
       "  '200m individual medley': '1:54.00',\n",
       "  '400m individual medley': '4:02.50',\n",
       "  '4 × 100 m freestyle relay': '3:08.24',\n",
       "  '4 × 200 m freestyle relay': '6:58.55',\n",
       "  '4 × 100 m medley relay': '3:26.78'},\n",
       " 'LC Women': {'50m freestyle': '23.61',\n",
       "  '100m freestyle': '51.71',\n",
       "  '200m freestyle': '1:52.85',\n",
       "  '400m freestyle': '3:55.38',\n",
       "  '800m freestyle': '8:04.79',\n",
       "  '1500m freestyle': '15:20.48',\n",
       "  '50m backstroke': '26.98',\n",
       "  '100m backstroke': '57.45',\n",
       "  '200m backstroke': '2:03.14',\n",
       "  '50m breaststroke': '29.16',\n",
       "  '100m breaststroke': '1:04.13',\n",
       "  '200m breaststroke': '2:17.55',\n",
       "  '50m butterfly': '24.43',\n",
       "  '100m butterfly': '55.48',\n",
       "  '200m butterfly': '2:01.81',\n",
       "  '200m individual medley': '2:06.12',\n",
       "  '400m individual medley': '4:25.87',\n",
       "  '4 × 100 m freestyle relay': '3:27.96',\n",
       "  '4 × 200 m freestyle relay': '7:37.50',\n",
       "  '4 × 100 m medley relay': '3:50.40'},\n",
       " 'SC Men': {'50m freestyle': '20.16',\n",
       "  '100m freestyle': '44.84',\n",
       "  '200m freestyle': '1:39.37',\n",
       "  '400m freestyle': '3:32.25',\n",
       "  '800m freestyle': '7:23.42',\n",
       "  '1500m freestyle': '14:06.88',\n",
       "  '50m backstroke': '22.11',\n",
       "  '100m backstroke': '48.33',\n",
       "  '200m backstroke': '1:45.63',\n",
       "  '50m breaststroke': '24.95',\n",
       "  '100m breaststroke': '55.28',\n",
       "  '200m breaststroke': '2:00.16',\n",
       "  '50m butterfly': '21.75',\n",
       "  '100m butterfly': '47.78',\n",
       "  '200m butterfly': '1:46.85',\n",
       "  '100m individual medley': '49.28',\n",
       "  '200m individual medley': '1:49.63',\n",
       "  '400m individual medley': '3:54.81',\n",
       "  '4 × 50 m freestyle relay': '1:20.77',\n",
       "  '4 × 100 m freestyle relay': '3:02.75',\n",
       "  '4 × 200 m freestyle relay': '6:44.12',\n",
       "  '4 × 50 m medley relay': '1:29.72',\n",
       "  '4 × 100 m medley relay': '3:18.98'},\n",
       " 'SC Women': {'50m freestyle': '22.93',\n",
       "  '100m freestyle': '50.25',\n",
       "  '200m freestyle': '1:50.31',\n",
       "  '400m freestyle': '3:51.30',\n",
       "  '800m freestyle': '7:57.42',\n",
       "  '1500m freestyle': '15:08.24',\n",
       "  '50m backstroke': '25.25',\n",
       "  '100m backstroke': '54.89',\n",
       "  '200m backstroke': '1:58.94',\n",
       "  '50m breaststroke': '28.37',\n",
       "  '100m breaststroke': '1:02.36',\n",
       "  '200m breaststroke': '2:14.57',\n",
       "  '50m butterfly': '24.38',\n",
       "  '100m butterfly': '54.05',\n",
       "  '200m butterfly': '1:59.61',\n",
       "  '100m individual medley': '56.51',\n",
       "  '200m individual medley': '2:01.86',\n",
       "  '400m individual medley': '4:18.94',\n",
       "  '4 × 50 m freestyle relay': '1:32.50',\n",
       "  '4 × 100 m freestyle relay': '3:25.43',\n",
       "  '4 × 200 m freestyle relay': '7:30.87',\n",
       "  '4 × 50 m medley relay': '1:42.35',\n",
       "  '4 × 100 m medley relay': '3:44.35'}}"
      ]
     },
     "execution_count": 5,
     "metadata": {},
     "output_type": "execute_result"
    }
   ],
   "source": [
    "records"
   ]
  },
  {
   "cell_type": "code",
   "execution_count": 4,
   "metadata": {},
   "outputs": [
    {
     "data": {
      "text/plain": [
       "dict_keys(['LC Men', 'LC Women', 'SC Men', 'SC Women'])"
      ]
     },
     "execution_count": 4,
     "metadata": {},
     "output_type": "execute_result"
    }
   ],
   "source": [
    "records.keys()"
   ]
  },
  {
   "cell_type": "code",
   "execution_count": 6,
   "metadata": {},
   "outputs": [
    {
     "data": {
      "text/plain": [
       "'57.45'"
      ]
     },
     "execution_count": 6,
     "metadata": {},
     "output_type": "execute_result"
    }
   ],
   "source": [
    "records[\"LC Women\"][\"100m backstroke\"]"
   ]
  },
  {
   "cell_type": "code",
   "execution_count": 7,
   "metadata": {},
   "outputs": [],
   "source": [
    "conversions = {\n",
    "    \"Free\": \"freestyle\",\n",
    "    \"Back\": \"backstroke\",\n",
    "    \"Breast\": \"breaststroke\",\n",
    "    \"Fly\": \"butterfly\",\n",
    "    \"IM\": \"individual medley\",\n",
    "}"
   ]
  },
  {
   "cell_type": "code",
   "execution_count": 8,
   "metadata": {},
   "outputs": [
    {
     "data": {
      "text/plain": [
       "'100m butterfly'"
      ]
     },
     "execution_count": 8,
     "metadata": {},
     "output_type": "execute_result"
    }
   ],
   "source": [
    "event = \"Mike-15-100m-Fly.txt\"\n",
    "*_, distance, stroke = event.removesuffix(\".txt\").split(\"-\")\n",
    "lookup = f\"{distance} {conversions[stroke]}\"\n",
    "lookup"
   ]
  },
  {
   "cell_type": "code",
   "execution_count": 9,
   "metadata": {},
   "outputs": [
    {
     "name": "stdout",
     "output_type": "stream",
     "text": [
      "49.45\n",
      "55.48\n",
      "47.78\n",
      "54.05\n"
     ]
    }
   ],
   "source": [
    "for course in records.keys():\n",
    "    print(f\"{records[course][lookup]}\")"
   ]
  },
  {
   "cell_type": "code",
   "execution_count": 10,
   "metadata": {},
   "outputs": [
    {
     "data": {
      "text/plain": [
       "{'50m freestyle': '20.91',\n",
       " '100m freestyle': '46.86',\n",
       " '200m freestyle': '1:42.00',\n",
       " '400m freestyle': '3:40.07',\n",
       " '800m freestyle': '7:32.12',\n",
       " '1500m freestyle': '14:31.02',\n",
       " '50m backstroke': '23.55',\n",
       " '100m backstroke': '51.60',\n",
       " '200m backstroke': '1:51.92',\n",
       " '50m breaststroke': '25.95',\n",
       " '100m breaststroke': '56.88',\n",
       " '200m breaststroke': '2:05.48',\n",
       " '50m butterfly': '22.27',\n",
       " '100m butterfly': '49.45',\n",
       " '200m butterfly': '1:50.34',\n",
       " '200m individual medley': '1:54.00',\n",
       " '400m individual medley': '4:02.50',\n",
       " '4 × 100 m freestyle relay': '3:08.24',\n",
       " '4 × 200 m freestyle relay': '6:58.55',\n",
       " '4 × 100 m medley relay': '3:26.78'}"
      ]
     },
     "execution_count": 10,
     "metadata": {},
     "output_type": "execute_result"
    }
   ],
   "source": [
    "records[\"LC Men\"]"
   ]
  },
  {
   "cell_type": "code",
   "execution_count": 11,
   "metadata": {},
   "outputs": [],
   "source": [
    "records = {}\n",
    "for table, course in zip(RECORDS, COURSES):\n",
    "    records[course] = {}\n",
    "    for row in tables[table].find(\"tr\", mode=\"all\")[1:]:\n",
    "        columns = row.find(\"td\", mode=\"all\")\n",
    "        event = columns[0].text\n",
    "        time = columns[1].text\n",
    "        # filter the \"relay\" data\n",
    "        if \"relay\" not in event:\n",
    "            records[course][event] = time"
   ]
  },
  {
   "cell_type": "code",
   "execution_count": 12,
   "metadata": {},
   "outputs": [
    {
     "data": {
      "text/plain": [
       "{'50m freestyle': '20.91',\n",
       " '100m freestyle': '46.86',\n",
       " '200m freestyle': '1:42.00',\n",
       " '400m freestyle': '3:40.07',\n",
       " '800m freestyle': '7:32.12',\n",
       " '1500m freestyle': '14:31.02',\n",
       " '50m backstroke': '23.55',\n",
       " '100m backstroke': '51.60',\n",
       " '200m backstroke': '1:51.92',\n",
       " '50m breaststroke': '25.95',\n",
       " '100m breaststroke': '56.88',\n",
       " '200m breaststroke': '2:05.48',\n",
       " '50m butterfly': '22.27',\n",
       " '100m butterfly': '49.45',\n",
       " '200m butterfly': '1:50.34',\n",
       " '200m individual medley': '1:54.00',\n",
       " '400m individual medley': '4:02.50'}"
      ]
     },
     "execution_count": 12,
     "metadata": {},
     "output_type": "execute_result"
    }
   ],
   "source": [
    "records[\"LC Men\"]"
   ]
  },
  {
   "cell_type": "markdown",
   "metadata": {},
   "source": [
    "### JSON formatted-file"
   ]
  },
  {
   "cell_type": "code",
   "execution_count": 15,
   "metadata": {},
   "outputs": [],
   "source": [
    "FD = \"data/swimrecord/\"\n",
    "\n",
    "import json\n",
    "from pyprojroot import here\n",
    "\n",
    "with open(here(FD + \"records.json\"), \"w\") as jf:\n",
    "    json.dump(records, jf)"
   ]
  },
  {
   "cell_type": "code",
   "execution_count": 16,
   "metadata": {},
   "outputs": [],
   "source": [
    "# create a function:\n",
    "# - take a single argument value: filename of any swimmer'data\n",
    "# - convert the filename into the correct lookup key -> return this\n",
    "def event_lookup(filename):\n",
    "    conversions = {\n",
    "    \"Free\": \"freestyle\",\n",
    "    \"Back\": \"backstroke\",\n",
    "    \"Breast\": \"breaststroke\",\n",
    "    \"Fly\": \"butterfly\",\n",
    "    \"IM\": \"individual medley\",\n",
    "}\n",
    "    \n",
    "    *_, distance, stroke = filename.removesuffix(\".txt\").split(\"-\")\n",
    "    lookup = f\"{distance} {conversions[stroke]}\"\n",
    "    return lookup"
   ]
  },
  {
   "cell_type": "code",
   "execution_count": 17,
   "metadata": {},
   "outputs": [
    {
     "data": {
      "text/plain": [
       "'50m backstroke'"
      ]
     },
     "execution_count": 17,
     "metadata": {},
     "output_type": "execute_result"
    }
   ],
   "source": [
    "event_lookup(\"Darius-13-50m-Back.txt\")"
   ]
  },
  {
   "cell_type": "code",
   "execution_count": 18,
   "metadata": {},
   "outputs": [],
   "source": [
    "# import JSON data\n",
    "import json\n",
    "from pyprojroot import here\n",
    "\n",
    "FD = \"data/swimrecord/\"\n",
    "\n",
    "with open(here(FD + \"records.json\")) as jf:\n",
    "    records = json.load(jf)"
   ]
  },
  {
   "cell_type": "code",
   "execution_count": 19,
   "metadata": {},
   "outputs": [
    {
     "data": {
      "text/plain": [
       "'49.45'"
      ]
     },
     "execution_count": 19,
     "metadata": {},
     "output_type": "execute_result"
    }
   ],
   "source": [
    "records[\"LC Men\"][event_lookup(\"Darius-13-100m-Fly.txt\")]"
   ]
  },
  {
   "cell_type": "code",
   "execution_count": null,
   "metadata": {},
   "outputs": [],
   "source": []
  }
 ],
 "metadata": {
  "kernelspec": {
   "display_name": "python4ds",
   "language": "python",
   "name": "python3"
  },
  "language_info": {
   "codemirror_mode": {
    "name": "ipython",
    "version": 3
   },
   "file_extension": ".py",
   "mimetype": "text/x-python",
   "name": "python",
   "nbconvert_exporter": "python",
   "pygments_lexer": "ipython3",
   "version": "3.11.5"
  },
  "orig_nbformat": 4
 },
 "nbformat": 4,
 "nbformat_minor": 2
}
