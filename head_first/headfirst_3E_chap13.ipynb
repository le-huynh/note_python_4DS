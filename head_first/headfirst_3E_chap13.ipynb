{
 "cells": [
  {
   "cell_type": "markdown",
   "metadata": {},
   "source": [
    "## List comprehensions: Database integrations\n",
    "### Extract data from database tables"
   ]
  },
  {
   "cell_type": "code",
   "execution_count": 1,
   "metadata": {},
   "outputs": [
    {
     "name": "stdout",
     "output_type": "stream",
     "text": [
      "['SQL_CHART_DATA_BY_SWIMMER_EVENT_SESSION', 'SQL_SESSIONS', 'SQL_SWIMMERS_BY_SESSION', 'SQL_SWIMMERS_EVENTS_BY_SESSION', '__builtins__', '__cached__', '__doc__', '__file__', '__loader__', '__name__', '__package__', '__spec__']\n"
     ]
    }
   ],
   "source": [
    "import e3_queries\n",
    "\n",
    "print(dir(e3_queries))"
   ]
  },
  {
   "cell_type": "code",
   "execution_count": 2,
   "metadata": {},
   "outputs": [
    {
     "data": {
      "text/plain": [
       "['SQL_CHART_DATA_BY_SWIMMER_EVENT_SESSION',\n",
       " 'SQL_SESSIONS',\n",
       " 'SQL_SWIMMERS_BY_SESSION',\n",
       " 'SQL_SWIMMERS_EVENTS_BY_SESSION']"
      ]
     },
     "execution_count": 2,
     "metadata": {},
     "output_type": "execute_result"
    }
   ],
   "source": [
    "# test\n",
    "statements = []\n",
    "\n",
    "for item in dir(e3_queries):\n",
    "    if not item.startswith(\"__\"):\n",
    "        statements.append(item)\n",
    "\n",
    "statements"
   ]
  },
  {
   "cell_type": "code",
   "execution_count": 3,
   "metadata": {},
   "outputs": [
    {
     "data": {
      "text/plain": [
       "['SQL_CHART_DATA_BY_SWIMMER_EVENT_SESSION',\n",
       " 'SQL_SESSIONS',\n",
       " 'SQL_SWIMMERS_BY_SESSION',\n",
       " 'SQL_SWIMMERS_EVENTS_BY_SESSION']"
      ]
     },
     "execution_count": 3,
     "metadata": {},
     "output_type": "execute_result"
    }
   ],
   "source": [
    "# list comprehension\n",
    "[item for item in dir(e3_queries) if not item.startswith(\"__\")]"
   ]
  },
  {
   "cell_type": "code",
   "execution_count": 4,
   "metadata": {},
   "outputs": [
    {
     "name": "stdout",
     "output_type": "stream",
     "text": [
      "\n",
      "    select distinct ts from times\n",
      "\n"
     ]
    }
   ],
   "source": [
    "import DBcm\n",
    "\n",
    "db_details = \"CoachDB.sqlite3\"\n",
    "\n",
    "from e3_queries import SQL_SESSIONS\n",
    "print(SQL_SESSIONS)"
   ]
  },
  {
   "cell_type": "code",
   "execution_count": 5,
   "metadata": {},
   "outputs": [
    {
     "data": {
      "text/plain": [
       "[('2023-09-14 21:41:01',), ('2023-09-14 21:41:02',)]"
      ]
     },
     "execution_count": 5,
     "metadata": {},
     "output_type": "execute_result"
    }
   ],
   "source": [
    "with DBcm.UseDatabase(db_details) as db:\n",
    "    db.execute(SQL_SESSIONS)\n",
    "    results = db.fetchall()\n",
    "\n",
    "results"
   ]
  },
  {
   "cell_type": "code",
   "execution_count": 6,
   "metadata": {},
   "outputs": [
    {
     "name": "stdout",
     "output_type": "stream",
     "text": [
      "\n",
      "    select distinct swimmers.name, swimmers.age\n",
      "    from times, swimmers\n",
      "    where date(times.ts) = ? and\n",
      "    times.swimmer_id = swimmers.id\n",
      "    order by name\n",
      "\n"
     ]
    }
   ],
   "source": [
    "from e3_queries import SQL_SWIMMERS_BY_SESSION\n",
    "\n",
    "print(SQL_SWIMMERS_BY_SESSION)"
   ]
  },
  {
   "cell_type": "code",
   "execution_count": 7,
   "metadata": {},
   "outputs": [
    {
     "data": {
      "text/plain": [
       "[('Abi', 10),\n",
       " ('Ali', 12),\n",
       " ('Alison', 14),\n",
       " ('Aurora', 13),\n",
       " ('Bill', 18),\n",
       " ('Blake', 15),\n",
       " ('Calvin', 9),\n",
       " ('Carl', 15),\n",
       " ('Chris', 17),\n",
       " ('Darius', 13),\n",
       " ('Dave', 17),\n",
       " ('Elba', 14),\n",
       " ('Emma', 13),\n",
       " ('Erika', 15),\n",
       " ('Hannah', 13),\n",
       " ('Katie', 9),\n",
       " ('Lizzie', 14),\n",
       " ('Maria', 9),\n",
       " ('Mike', 15),\n",
       " ('Owen', 15),\n",
       " ('Ruth', 13),\n",
       " ('Tasmin', 15)]"
      ]
     },
     "execution_count": 7,
     "metadata": {},
     "output_type": "execute_result"
    }
   ],
   "source": [
    "with DBcm.UseDatabase(db_details) as db:\n",
    "    db.execute(SQL_SWIMMERS_BY_SESSION, (\"2023-09-14\",))\n",
    "    results = db.fetchall()\n",
    "\n",
    "results"
   ]
  },
  {
   "cell_type": "code",
   "execution_count": 8,
   "metadata": {},
   "outputs": [
    {
     "name": "stdout",
     "output_type": "stream",
     "text": [
      "\n",
      "    select distinct events.distance, events.stroke\n",
      "    from swimmers, events, times\n",
      "    where times.swimmer_id = swimmers.id and\n",
      "    times.event_id = events.id and\n",
      "    (swimmers.name = ? and swimmers.age = ?) and\n",
      "    date(times.ts) = ?\n",
      "\n"
     ]
    }
   ],
   "source": [
    "from e3_queries import SQL_SWIMMERS_EVENTS_BY_SESSION\n",
    "\n",
    "print(SQL_SWIMMERS_EVENTS_BY_SESSION)"
   ]
  },
  {
   "cell_type": "code",
   "execution_count": 9,
   "metadata": {},
   "outputs": [
    {
     "data": {
      "text/plain": [
       "[('100m', 'Back'), ('100m', 'Breast'), ('100m', 'Fly'), ('200m', 'IM')]"
      ]
     },
     "execution_count": 9,
     "metadata": {},
     "output_type": "execute_result"
    }
   ],
   "source": [
    "with DBcm.UseDatabase(db_details) as db:\n",
    "    db.execute(SQL_SWIMMERS_EVENTS_BY_SESSION, (\"Darius\", 13, \"2023-09-14\",))\n",
    "    results = db.fetchall()\n",
    "\n",
    "results"
   ]
  },
  {
   "cell_type": "code",
   "execution_count": 10,
   "metadata": {},
   "outputs": [
    {
     "name": "stdout",
     "output_type": "stream",
     "text": [
      "\n",
      "    select times.time\n",
      "    from swimmers, events, times\n",
      "    where (swimmers.name = ? and swimmers.age = ?) and\n",
      "    (events.distance = ? and events.stroke = ?) and\n",
      "    swimmers.id = times.swimmer_id and\n",
      "    events.id = times.event_id and\n",
      "    date(times.ts) = ?\n",
      "\n"
     ]
    }
   ],
   "source": [
    "from e3_queries import SQL_CHART_DATA_BY_SWIMMER_EVENT_SESSION\n",
    "\n",
    "print(SQL_CHART_DATA_BY_SWIMMER_EVENT_SESSION)"
   ]
  },
  {
   "cell_type": "code",
   "execution_count": 11,
   "metadata": {},
   "outputs": [
    {
     "data": {
      "text/plain": [
       "[('1:27.95',),\n",
       " ('1:21.07',),\n",
       " ('1:30.96',),\n",
       " ('1:23.22',),\n",
       " ('1:27.95',),\n",
       " ('1:28.30',)]"
      ]
     },
     "execution_count": 11,
     "metadata": {},
     "output_type": "execute_result"
    }
   ],
   "source": [
    "with DBcm.UseDatabase(db_details) as db:\n",
    "    db.execute(SQL_CHART_DATA_BY_SWIMMER_EVENT_SESSION, \n",
    "               (\"Darius\", 13, \"100m\", \"Fly\", \"2023-09-14\",))\n",
    "    results = db.fetchall()\n",
    "\n",
    "results"
   ]
  },
  {
   "cell_type": "markdown",
   "metadata": {},
   "source": [
    "#### Test data_utils.py"
   ]
  },
  {
   "cell_type": "code",
   "execution_count": 12,
   "metadata": {},
   "outputs": [
    {
     "name": "stdout",
     "output_type": "stream",
     "text": [
      "['DBcm', 'SQL_CHART_DATA_BY_SWIMMER_EVENT_SESSION', 'SQL_SESSIONS', 'SQL_SWIMMERS_BY_SESSION', 'SQL_SWIMMERS_EVENTS_BY_SESSION', 'db_details', 'get_session_swimmers', 'get_swim_session', 'get_swimmers_events', 'get_swimmers_times']\n"
     ]
    }
   ],
   "source": [
    "import e3_data_utils\n",
    "\n",
    "print([x for x in dir(e3_data_utils) if not x.startswith(\"__\")])"
   ]
  },
  {
   "cell_type": "code",
   "execution_count": 13,
   "metadata": {},
   "outputs": [
    {
     "name": "stdout",
     "output_type": "stream",
     "text": [
      "Help on function get_swim_session in module e3_data_utils:\n",
      "\n",
      "get_swim_session()\n",
      "    Return a tuple-list of unique session timestamps.\n",
      "\n"
     ]
    }
   ],
   "source": [
    "help(e3_data_utils.get_swim_session)"
   ]
  },
  {
   "cell_type": "code",
   "execution_count": 14,
   "metadata": {},
   "outputs": [
    {
     "data": {
      "text/plain": [
       "[('2023-09-14 21:41:01',), ('2023-09-14 21:41:02',)]"
      ]
     },
     "execution_count": 14,
     "metadata": {},
     "output_type": "execute_result"
    }
   ],
   "source": [
    "data = e3_data_utils.get_swim_session()\n",
    "data"
   ]
  },
  {
   "cell_type": "code",
   "execution_count": 15,
   "metadata": {},
   "outputs": [
    {
     "data": {
      "text/plain": [
       "['2023-09-14', '2023-09-14']"
      ]
     },
     "execution_count": 15,
     "metadata": {},
     "output_type": "execute_result"
    }
   ],
   "source": [
    "[session[0].split(\" \")[0] for session in data]"
   ]
  },
  {
   "cell_type": "code",
   "execution_count": 16,
   "metadata": {},
   "outputs": [
    {
     "data": {
      "text/plain": [
       "[('Abi', 10),\n",
       " ('Ali', 12),\n",
       " ('Alison', 14),\n",
       " ('Aurora', 13),\n",
       " ('Bill', 18),\n",
       " ('Blake', 15),\n",
       " ('Calvin', 9),\n",
       " ('Carl', 15),\n",
       " ('Chris', 17),\n",
       " ('Darius', 13),\n",
       " ('Dave', 17),\n",
       " ('Elba', 14),\n",
       " ('Emma', 13),\n",
       " ('Erika', 15),\n",
       " ('Hannah', 13),\n",
       " ('Katie', 9),\n",
       " ('Lizzie', 14),\n",
       " ('Maria', 9),\n",
       " ('Mike', 15),\n",
       " ('Owen', 15),\n",
       " ('Ruth', 13),\n",
       " ('Tasmin', 15)]"
      ]
     },
     "execution_count": 16,
     "metadata": {},
     "output_type": "execute_result"
    }
   ],
   "source": [
    "data = e3_data_utils.get_session_swimmers(\"2023-09-14\")\n",
    "data"
   ]
  },
  {
   "cell_type": "code",
   "execution_count": 17,
   "metadata": {},
   "outputs": [
    {
     "name": "stdout",
     "output_type": "stream",
     "text": [
      "['Abi - 10', 'Ali - 12', 'Alison - 14', 'Aurora - 13', 'Bill - 18', 'Blake - 15', 'Calvin - 9', 'Carl - 15', 'Chris - 17', 'Darius - 13', 'Dave - 17', 'Elba - 14', 'Emma - 13', 'Erika - 15', 'Hannah - 13', 'Katie - 9', 'Lizzie - 14', 'Maria - 9', 'Mike - 15', 'Owen - 15', 'Ruth - 13', 'Tasmin - 15']\n"
     ]
    }
   ],
   "source": [
    "print([f\"{swimmer[0]} - {swimmer[1]}\" for swimmer in data])"
   ]
  },
  {
   "cell_type": "code",
   "execution_count": 18,
   "metadata": {},
   "outputs": [
    {
     "data": {
      "text/plain": [
       "[('100m', 'Free')]"
      ]
     },
     "execution_count": 18,
     "metadata": {},
     "output_type": "execute_result"
    }
   ],
   "source": [
    "e3_data_utils.get_swimmers_events(\"Owen\", 15, \"2023-09-14\")"
   ]
  },
  {
   "cell_type": "code",
   "execution_count": 19,
   "metadata": {},
   "outputs": [
    {
     "data": {
      "text/plain": [
       "[('100m', 'Back'), ('100m', 'Breast'), ('100m', 'Fly'), ('200m', 'IM')]"
      ]
     },
     "execution_count": 19,
     "metadata": {},
     "output_type": "execute_result"
    }
   ],
   "source": [
    "data = e3_data_utils.get_swimmers_events(\"Darius\", 13, \"2023-09-14\")\n",
    "data"
   ]
  },
  {
   "cell_type": "code",
   "execution_count": 20,
   "metadata": {},
   "outputs": [
    {
     "data": {
      "text/plain": [
       "['100m Back', '100m Breast', '100m Fly', '200m IM']"
      ]
     },
     "execution_count": 20,
     "metadata": {},
     "output_type": "execute_result"
    }
   ],
   "source": [
    "[f\"{event[0]} {event[1]}\" for event in data]"
   ]
  },
  {
   "cell_type": "code",
   "execution_count": 22,
   "metadata": {},
   "outputs": [
    {
     "data": {
      "text/plain": [
       "[('1:15.57',), ('1:14.40',), ('1:19.82',), ('1:12.90',)]"
      ]
     },
     "execution_count": 22,
     "metadata": {},
     "output_type": "execute_result"
    }
   ],
   "source": [
    "data = e3_data_utils.get_swimmers_times(\"Owen\", 15, \"100m\", \"Free\", \"2023-09-14\")\n",
    "data"
   ]
  },
  {
   "cell_type": "code",
   "execution_count": 25,
   "metadata": {},
   "outputs": [
    {
     "data": {
      "text/plain": [
       "['1:15.57', '1:14.40', '1:19.82', '1:12.90']"
      ]
     },
     "execution_count": 25,
     "metadata": {},
     "output_type": "execute_result"
    }
   ],
   "source": [
    "[time[0] for time in data]"
   ]
  }
 ],
 "metadata": {
  "kernelspec": {
   "display_name": "python4ds",
   "language": "python",
   "name": "python3"
  },
  "language_info": {
   "codemirror_mode": {
    "name": "ipython",
    "version": 3
   },
   "file_extension": ".py",
   "mimetype": "text/x-python",
   "name": "python",
   "nbconvert_exporter": "python",
   "pygments_lexer": "ipython3",
   "version": "3.11.5"
  },
  "orig_nbformat": 4
 },
 "nbformat": 4,
 "nbformat_minor": 2
}
