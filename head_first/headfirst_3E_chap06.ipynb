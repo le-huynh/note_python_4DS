{
 "cells": [
  {
   "cell_type": "code",
   "execution_count": 1,
   "metadata": {},
   "outputs": [
    {
     "name": "stdout",
     "output_type": "stream",
     "text": [
      "60\n"
     ]
    }
   ],
   "source": [
    "import os\n",
    "import e3_swimclub\n",
    "from pyhere import here\n",
    "\n",
    "fd = \"data/swimdata/\"\n",
    "\n",
    "swim_files = os.listdir(here(fd))\n",
    "swim_files.remove('.DS_Store')\n",
    "\n",
    "print(len(swim_files))"
   ]
  },
  {
   "cell_type": "code",
   "execution_count": 2,
   "metadata": {},
   "outputs": [
    {
     "name": "stdout",
     "output_type": "stream",
     "text": [
      "['Abi', 'Abi', 'Abi', 'Abi', 'Abi', 'Ali', 'Ali', 'Alison', 'Alison', 'Aurora', 'Bill', 'Bill', 'Blake', 'Blake', 'Blake', 'Calvin', 'Calvin', 'Calvin', 'Carl', 'Chris', 'Chris', 'Darius', 'Darius', 'Darius', 'Darius', 'Dave', 'Dave', 'Elba', 'Emma', 'Emma', 'Erika', 'Erika', 'Erika', 'Hannah', 'Hannah', 'Katie', 'Katie', 'Katie', 'Katie', 'Katie', 'Katie', 'Katie', 'Lizzie', 'Lizzie', 'Maria', 'Mike', 'Mike', 'Mike', 'Mike', 'Mike', 'Owen', 'Ruth', 'Ruth', 'Ruth', 'Ruth', 'Ruth', 'Tasmin', 'Tasmin', 'Tasmin', 'Tasmin']\n"
     ]
    }
   ],
   "source": [
    "swimmers = []\n",
    "for file in swim_files:\n",
    "    swimmers.append(e3_swimclub.get_swim_data(fd, file)[0])\n",
    "\n",
    "print(swimmers)"
   ]
  },
  {
   "cell_type": "code",
   "execution_count": 3,
   "metadata": {},
   "outputs": [
    {
     "name": "stdout",
     "output_type": "stream",
     "text": [
      "60\n"
     ]
    }
   ],
   "source": [
    "print(len(swimmers))"
   ]
  },
  {
   "cell_type": "code",
   "execution_count": 4,
   "metadata": {},
   "outputs": [],
   "source": [
    "# remove all duplicated entries\n",
    "# option 1: [trick] convert `list` to `set`\n",
    "names = list(set(swimmers))"
   ]
  },
  {
   "cell_type": "code",
   "execution_count": 5,
   "metadata": {},
   "outputs": [
    {
     "name": "stdout",
     "output_type": "stream",
     "text": [
      "['Alison', 'Katie', 'Erika', 'Abi', 'Owen', 'Elba', 'Dave', 'Lizzie', 'Maria', 'Tasmin', 'Ali', 'Bill', 'Mike', 'Darius', 'Ruth', 'Chris', 'Carl', 'Aurora', 'Hannah', 'Emma', 'Calvin', 'Blake']\n"
     ]
    }
   ],
   "source": [
    "print(names)"
   ]
  },
  {
   "cell_type": "code",
   "execution_count": 6,
   "metadata": {},
   "outputs": [
    {
     "data": {
      "text/plain": [
       "['Alison',\n",
       " 'Katie',\n",
       " 'Erika',\n",
       " 'Abi',\n",
       " 'Owen',\n",
       " 'Elba',\n",
       " 'Dave',\n",
       " 'Lizzie',\n",
       " 'Maria',\n",
       " 'Tasmin',\n",
       " 'Ali',\n",
       " 'Bill',\n",
       " 'Mike',\n",
       " 'Darius',\n",
       " 'Ruth',\n",
       " 'Chris',\n",
       " 'Carl',\n",
       " 'Aurora',\n",
       " 'Hannah',\n",
       " 'Emma',\n",
       " 'Calvin',\n",
       " 'Blake']"
      ]
     },
     "execution_count": 6,
     "metadata": {},
     "output_type": "execute_result"
    }
   ],
   "source": [
    "names"
   ]
  },
  {
   "cell_type": "code",
   "execution_count": 7,
   "metadata": {},
   "outputs": [
    {
     "data": {
      "text/plain": [
       "22"
      ]
     },
     "execution_count": 7,
     "metadata": {},
     "output_type": "execute_result"
    }
   ],
   "source": [
    "len(names)"
   ]
  },
  {
   "cell_type": "code",
   "execution_count": 8,
   "metadata": {},
   "outputs": [
    {
     "name": "stdout",
     "output_type": "stream",
     "text": [
      "['Abi', 'Ali', 'Alison', 'Aurora', 'Bill', 'Blake', 'Calvin', 'Carl', 'Chris', 'Darius', 'Dave', 'Elba', 'Emma', 'Erika', 'Hannah', 'Katie', 'Lizzie', 'Maria', 'Mike', 'Owen', 'Ruth', 'Tasmin']\n"
     ]
    }
   ],
   "source": [
    "# option 2:\n",
    "swimmers = []\n",
    "for file in swim_files:\n",
    "    name = e3_swimclub.get_swim_data(fd, file)[0]\n",
    "    if name not in swimmers:\n",
    "        swimmers.append(name)\n",
    "\n",
    "print(swimmers)"
   ]
  },
  {
   "cell_type": "code",
   "execution_count": 9,
   "metadata": {},
   "outputs": [
    {
     "data": {
      "text/plain": [
       "22"
      ]
     },
     "execution_count": 9,
     "metadata": {},
     "output_type": "execute_result"
    }
   ],
   "source": [
    "len(swimmers)"
   ]
  },
  {
   "cell_type": "code",
   "execution_count": 10,
   "metadata": {},
   "outputs": [
    {
     "name": "stdout",
     "output_type": "stream",
     "text": [
      "[('Abi', 'Abi-10-100m-Back.txt'), ('Abi', 'Abi-10-100m-Breast.txt'), ('Abi', 'Abi-10-50m-Back.txt'), ('Abi', 'Abi-10-50m-Breast.txt'), ('Abi', 'Abi-10-50m-Free.txt'), ('Ali', 'Ali-12-100m-Back.txt'), ('Ali', 'Ali-12-100m-Free.txt'), ('Alison', 'Alison-14-100m-Breast.txt'), ('Alison', 'Alison-14-100m-Free.txt'), ('Aurora', 'Aurora-13-50m-Free.txt'), ('Bill', 'Bill-18-100m-Back.txt'), ('Bill', 'Bill-18-200m-Back.txt'), ('Blake', 'Blake-15-100m-Back.txt'), ('Blake', 'Blake-15-100m-Fly.txt'), ('Blake', 'Blake-15-100m-Free.txt'), ('Calvin', 'Calvin-9-50m-Back.txt'), ('Calvin', 'Calvin-9-50m-Fly.txt'), ('Calvin', 'Calvin-9-50m-Free.txt'), ('Carl', 'Carl-15-100m-Back.txt'), ('Chris', 'Chris-17-100m-Back.txt'), ('Chris', 'Chris-17-100m-Breast.txt'), ('Darius', 'Darius-13-100m-Back.txt'), ('Darius', 'Darius-13-100m-Breast.txt'), ('Darius', 'Darius-13-100m-Fly.txt'), ('Darius', 'Darius-13-200m-IM.txt'), ('Dave', 'Dave-17-100m-Free.txt'), ('Dave', 'Dave-17-200m-Back.txt'), ('Elba', 'Elba-14-100m-Free.txt'), ('Emma', 'Emma-13-100m-Breast.txt'), ('Emma', 'Emma-13-100m-Free.txt'), ('Erika', 'Erika-15-100m-Breast.txt'), ('Erika', 'Erika-15-100m-Free.txt'), ('Erika', 'Erika-15-200m-Breast.txt'), ('Hannah', 'Hannah-13-100m-Back.txt'), ('Hannah', 'Hannah-13-100m-Free.txt'), ('Katie', 'Katie-9-100m-Back.txt'), ('Katie', 'Katie-9-100m-Breast.txt'), ('Katie', 'Katie-9-100m-Free.txt'), ('Katie', 'Katie-9-50m-Back.txt'), ('Katie', 'Katie-9-50m-Breast.txt'), ('Katie', 'Katie-9-50m-Fly.txt'), ('Katie', 'Katie-9-50m-Free.txt'), ('Lizzie', 'Lizzie-14-100m-Back.txt'), ('Lizzie', 'Lizzie-14-100m-Free.txt'), ('Maria', 'Maria-9-50m-Free.txt'), ('Mike', 'Mike-15-100m-Back.txt'), ('Mike', 'Mike-15-100m-Fly.txt'), ('Mike', 'Mike-15-100m-Free.txt'), ('Mike', 'Mike-15-200m-Free.txt'), ('Mike', 'Mike-15-200m-IM.txt'), ('Owen', 'Owen-15-100m-Free.txt'), ('Ruth', 'Ruth-13-100m-Back.txt'), ('Ruth', 'Ruth-13-100m-Free.txt'), ('Ruth', 'Ruth-13-200m-Back.txt'), ('Ruth', 'Ruth-13-200m-Free.txt'), ('Ruth', 'Ruth-13-400m-Free.txt'), ('Tasmin', 'Tasmin-15-100m-Back.txt'), ('Tasmin', 'Tasmin-15-100m-Breast.txt'), ('Tasmin', 'Tasmin-15-100m-Free.txt'), ('Tasmin', 'Tasmin-15-200m-Breast.txt')]\n"
     ]
    }
   ],
   "source": [
    "swimmers = []\n",
    "for file in swim_files:\n",
    "    swimmers.append((e3_swimclub.get_swim_data(fd, file)[0], file))\n",
    "\n",
    "print(swimmers)"
   ]
  },
  {
   "cell_type": "code",
   "execution_count": 11,
   "metadata": {},
   "outputs": [
    {
     "data": {
      "text/plain": [
       "60"
      ]
     },
     "execution_count": 11,
     "metadata": {},
     "output_type": "execute_result"
    }
   ],
   "source": [
    "len(swimmers)"
   ]
  },
  {
   "cell_type": "code",
   "execution_count": 12,
   "metadata": {},
   "outputs": [
    {
     "data": {
      "text/plain": [
       "[('Abi', 'Abi-10-100m-Back.txt'),\n",
       " ('Abi', 'Abi-10-100m-Breast.txt'),\n",
       " ('Abi', 'Abi-10-50m-Back.txt'),\n",
       " ('Abi', 'Abi-10-50m-Breast.txt'),\n",
       " ('Abi', 'Abi-10-50m-Free.txt')]"
      ]
     },
     "execution_count": 12,
     "metadata": {},
     "output_type": "execute_result"
    }
   ],
   "source": [
    "swimmers[:5]"
   ]
  },
  {
   "cell_type": "code",
   "execution_count": 13,
   "metadata": {},
   "outputs": [
    {
     "name": "stdout",
     "output_type": "stream",
     "text": [
      "25 ('Dave', 'Dave-17-100m-Free.txt')\n",
      "26 ('Dave', 'Dave-17-200m-Back.txt')\n"
     ]
    }
   ],
   "source": [
    "for n, event in enumerate(swimmers):\n",
    "    if event[0] == \"Dave\":\n",
    "        print(n, event)"
   ]
  },
  {
   "cell_type": "code",
   "execution_count": 14,
   "metadata": {},
   "outputs": [],
   "source": [
    "# dictionary\n",
    "person = {\"first\":\"Tim\",\n",
    "          \"last\":\"Ron\"}"
   ]
  },
  {
   "cell_type": "code",
   "execution_count": 15,
   "metadata": {},
   "outputs": [
    {
     "data": {
      "text/plain": [
       "'Ron'"
      ]
     },
     "execution_count": 15,
     "metadata": {},
     "output_type": "execute_result"
    }
   ],
   "source": [
    "person[\"last\"]"
   ]
  },
  {
   "cell_type": "code",
   "execution_count": 16,
   "metadata": {},
   "outputs": [],
   "source": [
    "# empty dictionary\n",
    "name_dic = {}\n",
    "\n",
    "# add data into dictionary\n",
    "name_dic[\"Dave\"]  = \"Dave-17-100m-Free.txt\""
   ]
  },
  {
   "cell_type": "code",
   "execution_count": 17,
   "metadata": {},
   "outputs": [],
   "source": [
    "swimmers = {}\n",
    "\n",
    "for file in swim_files:\n",
    "    name = e3_swimclub.get_swim_data(fd, file)[0]\n",
    "    swimmers[name] = []"
   ]
  },
  {
   "cell_type": "code",
   "execution_count": 18,
   "metadata": {},
   "outputs": [
    {
     "data": {
      "text/plain": [
       "{'Abi': [],\n",
       " 'Ali': [],\n",
       " 'Alison': [],\n",
       " 'Aurora': [],\n",
       " 'Bill': [],\n",
       " 'Blake': [],\n",
       " 'Calvin': [],\n",
       " 'Carl': [],\n",
       " 'Chris': [],\n",
       " 'Darius': [],\n",
       " 'Dave': [],\n",
       " 'Elba': [],\n",
       " 'Emma': [],\n",
       " 'Erika': [],\n",
       " 'Hannah': [],\n",
       " 'Katie': [],\n",
       " 'Lizzie': [],\n",
       " 'Maria': [],\n",
       " 'Mike': [],\n",
       " 'Owen': [],\n",
       " 'Ruth': [],\n",
       " 'Tasmin': []}"
      ]
     },
     "execution_count": 18,
     "metadata": {},
     "output_type": "execute_result"
    }
   ],
   "source": [
    "swimmers"
   ]
  },
  {
   "cell_type": "code",
   "execution_count": 19,
   "metadata": {},
   "outputs": [
    {
     "name": "stdout",
     "output_type": "stream",
     "text": [
      "['Abi', 'Ali', 'Alison', 'Aurora', 'Bill', 'Blake', 'Calvin', 'Carl', 'Chris', 'Darius', 'Dave', 'Elba', 'Emma', 'Erika', 'Hannah', 'Katie', 'Lizzie', 'Maria', 'Mike', 'Owen', 'Ruth', 'Tasmin']\n"
     ]
    }
   ],
   "source": [
    "print(sorted(swimmers))"
   ]
  },
  {
   "cell_type": "code",
   "execution_count": 20,
   "metadata": {},
   "outputs": [
    {
     "data": {
      "text/plain": [
       "[]"
      ]
     },
     "execution_count": 20,
     "metadata": {},
     "output_type": "execute_result"
    }
   ],
   "source": [
    "swimmers[\"Alison\"]"
   ]
  },
  {
   "cell_type": "code",
   "execution_count": 21,
   "metadata": {},
   "outputs": [
    {
     "name": "stdout",
     "output_type": "stream",
     "text": [
      "['__class__', '__class_getitem__', '__contains__', '__delattr__', '__delitem__', '__dir__', '__doc__', '__eq__', '__format__', '__ge__', '__getattribute__', '__getitem__', '__getstate__', '__gt__', '__hash__', '__init__', '__init_subclass__', '__ior__', '__iter__', '__le__', '__len__', '__lt__', '__ne__', '__new__', '__or__', '__reduce__', '__reduce_ex__', '__repr__', '__reversed__', '__ror__', '__setattr__', '__setitem__', '__sizeof__', '__str__', '__subclasshook__', 'clear', 'copy', 'fromkeys', 'get', 'items', 'keys', 'pop', 'popitem', 'setdefault', 'update', 'values']\n"
     ]
    }
   ],
   "source": [
    "print(dir(swimmers))"
   ]
  },
  {
   "cell_type": "code",
   "execution_count": 28,
   "metadata": {},
   "outputs": [],
   "source": [
    "swimmers = {}\n",
    "for file in swim_files:\n",
    "    name, *_ = e3_swimclub.get_swim_data(fd, file)\n",
    "    if name not in swimmers:\n",
    "        swimmers[name] = []\n",
    "    swimmers[name].append(file)"
   ]
  },
  {
   "cell_type": "code",
   "execution_count": 29,
   "metadata": {},
   "outputs": [
    {
     "data": {
      "text/plain": [
       "['Dave-17-100m-Free.txt', 'Dave-17-200m-Back.txt']"
      ]
     },
     "execution_count": 29,
     "metadata": {},
     "output_type": "execute_result"
    }
   ],
   "source": [
    "swimmers[\"Dave\"]"
   ]
  },
  {
   "cell_type": "code",
   "execution_count": 30,
   "metadata": {},
   "outputs": [
    {
     "data": {
      "text/plain": [
       "['Abi-10-100m-Back.txt',\n",
       " 'Abi-10-100m-Breast.txt',\n",
       " 'Abi-10-50m-Back.txt',\n",
       " 'Abi-10-50m-Breast.txt',\n",
       " 'Abi-10-50m-Free.txt']"
      ]
     },
     "execution_count": 30,
     "metadata": {},
     "output_type": "execute_result"
    }
   ],
   "source": [
    "swimmers[\"Abi\"]"
   ]
  },
  {
   "cell_type": "code",
   "execution_count": 31,
   "metadata": {},
   "outputs": [
    {
     "data": {
      "text/plain": [
       "{'Abi': ['Abi-10-100m-Back.txt',\n",
       "  'Abi-10-100m-Breast.txt',\n",
       "  'Abi-10-50m-Back.txt',\n",
       "  'Abi-10-50m-Breast.txt',\n",
       "  'Abi-10-50m-Free.txt'],\n",
       " 'Ali': ['Ali-12-100m-Back.txt', 'Ali-12-100m-Free.txt'],\n",
       " 'Alison': ['Alison-14-100m-Breast.txt', 'Alison-14-100m-Free.txt'],\n",
       " 'Aurora': ['Aurora-13-50m-Free.txt'],\n",
       " 'Bill': ['Bill-18-100m-Back.txt', 'Bill-18-200m-Back.txt'],\n",
       " 'Blake': ['Blake-15-100m-Back.txt',\n",
       "  'Blake-15-100m-Fly.txt',\n",
       "  'Blake-15-100m-Free.txt'],\n",
       " 'Calvin': ['Calvin-9-50m-Back.txt',\n",
       "  'Calvin-9-50m-Fly.txt',\n",
       "  'Calvin-9-50m-Free.txt'],\n",
       " 'Carl': ['Carl-15-100m-Back.txt'],\n",
       " 'Chris': ['Chris-17-100m-Back.txt', 'Chris-17-100m-Breast.txt'],\n",
       " 'Darius': ['Darius-13-100m-Back.txt',\n",
       "  'Darius-13-100m-Breast.txt',\n",
       "  'Darius-13-100m-Fly.txt',\n",
       "  'Darius-13-200m-IM.txt'],\n",
       " 'Dave': ['Dave-17-100m-Free.txt', 'Dave-17-200m-Back.txt'],\n",
       " 'Elba': ['Elba-14-100m-Free.txt'],\n",
       " 'Emma': ['Emma-13-100m-Breast.txt', 'Emma-13-100m-Free.txt'],\n",
       " 'Erika': ['Erika-15-100m-Breast.txt',\n",
       "  'Erika-15-100m-Free.txt',\n",
       "  'Erika-15-200m-Breast.txt'],\n",
       " 'Hannah': ['Hannah-13-100m-Back.txt', 'Hannah-13-100m-Free.txt'],\n",
       " 'Katie': ['Katie-9-100m-Back.txt',\n",
       "  'Katie-9-100m-Breast.txt',\n",
       "  'Katie-9-100m-Free.txt',\n",
       "  'Katie-9-50m-Back.txt',\n",
       "  'Katie-9-50m-Breast.txt',\n",
       "  'Katie-9-50m-Fly.txt',\n",
       "  'Katie-9-50m-Free.txt'],\n",
       " 'Lizzie': ['Lizzie-14-100m-Back.txt', 'Lizzie-14-100m-Free.txt'],\n",
       " 'Maria': ['Maria-9-50m-Free.txt'],\n",
       " 'Mike': ['Mike-15-100m-Back.txt',\n",
       "  'Mike-15-100m-Fly.txt',\n",
       "  'Mike-15-100m-Free.txt',\n",
       "  'Mike-15-200m-Free.txt',\n",
       "  'Mike-15-200m-IM.txt'],\n",
       " 'Owen': ['Owen-15-100m-Free.txt'],\n",
       " 'Ruth': ['Ruth-13-100m-Back.txt',\n",
       "  'Ruth-13-100m-Free.txt',\n",
       "  'Ruth-13-200m-Back.txt',\n",
       "  'Ruth-13-200m-Free.txt',\n",
       "  'Ruth-13-400m-Free.txt'],\n",
       " 'Tasmin': ['Tasmin-15-100m-Back.txt',\n",
       "  'Tasmin-15-100m-Breast.txt',\n",
       "  'Tasmin-15-100m-Free.txt',\n",
       "  'Tasmin-15-200m-Breast.txt']}"
      ]
     },
     "execution_count": 31,
     "metadata": {},
     "output_type": "execute_result"
    }
   ],
   "source": [
    "swimmers"
   ]
  },
  {
   "cell_type": "code",
   "execution_count": 32,
   "metadata": {},
   "outputs": [
    {
     "name": "stdout",
     "output_type": "stream",
     "text": [
      "{'Abi': ['Abi-10-100m-Back.txt',\n",
      "         'Abi-10-100m-Breast.txt',\n",
      "         'Abi-10-50m-Back.txt',\n",
      "         'Abi-10-50m-Breast.txt',\n",
      "         'Abi-10-50m-Free.txt'],\n",
      " 'Ali': ['Ali-12-100m-Back.txt', 'Ali-12-100m-Free.txt'],\n",
      " 'Alison': ['Alison-14-100m-Breast.txt', 'Alison-14-100m-Free.txt'],\n",
      " 'Aurora': ['Aurora-13-50m-Free.txt'],\n",
      " 'Bill': ['Bill-18-100m-Back.txt', 'Bill-18-200m-Back.txt'],\n",
      " 'Blake': ['Blake-15-100m-Back.txt',\n",
      "           'Blake-15-100m-Fly.txt',\n",
      "           'Blake-15-100m-Free.txt'],\n",
      " 'Calvin': ['Calvin-9-50m-Back.txt',\n",
      "            'Calvin-9-50m-Fly.txt',\n",
      "            'Calvin-9-50m-Free.txt'],\n",
      " 'Carl': ['Carl-15-100m-Back.txt'],\n",
      " 'Chris': ['Chris-17-100m-Back.txt', 'Chris-17-100m-Breast.txt'],\n",
      " 'Darius': ['Darius-13-100m-Back.txt',\n",
      "            'Darius-13-100m-Breast.txt',\n",
      "            'Darius-13-100m-Fly.txt',\n",
      "            'Darius-13-200m-IM.txt'],\n",
      " 'Dave': ['Dave-17-100m-Free.txt', 'Dave-17-200m-Back.txt'],\n",
      " 'Elba': ['Elba-14-100m-Free.txt'],\n",
      " 'Emma': ['Emma-13-100m-Breast.txt', 'Emma-13-100m-Free.txt'],\n",
      " 'Erika': ['Erika-15-100m-Breast.txt',\n",
      "           'Erika-15-100m-Free.txt',\n",
      "           'Erika-15-200m-Breast.txt'],\n",
      " 'Hannah': ['Hannah-13-100m-Back.txt', 'Hannah-13-100m-Free.txt'],\n",
      " 'Katie': ['Katie-9-100m-Back.txt',\n",
      "           'Katie-9-100m-Breast.txt',\n",
      "           'Katie-9-100m-Free.txt',\n",
      "           'Katie-9-50m-Back.txt',\n",
      "           'Katie-9-50m-Breast.txt',\n",
      "           'Katie-9-50m-Fly.txt',\n",
      "           'Katie-9-50m-Free.txt'],\n",
      " 'Lizzie': ['Lizzie-14-100m-Back.txt', 'Lizzie-14-100m-Free.txt'],\n",
      " 'Maria': ['Maria-9-50m-Free.txt'],\n",
      " 'Mike': ['Mike-15-100m-Back.txt',\n",
      "          'Mike-15-100m-Fly.txt',\n",
      "          'Mike-15-100m-Free.txt',\n",
      "          'Mike-15-200m-Free.txt',\n",
      "          'Mike-15-200m-IM.txt'],\n",
      " 'Owen': ['Owen-15-100m-Free.txt'],\n",
      " 'Ruth': ['Ruth-13-100m-Back.txt',\n",
      "          'Ruth-13-100m-Free.txt',\n",
      "          'Ruth-13-200m-Back.txt',\n",
      "          'Ruth-13-200m-Free.txt',\n",
      "          'Ruth-13-400m-Free.txt'],\n",
      " 'Tasmin': ['Tasmin-15-100m-Back.txt',\n",
      "            'Tasmin-15-100m-Breast.txt',\n",
      "            'Tasmin-15-100m-Free.txt',\n",
      "            'Tasmin-15-200m-Breast.txt']}\n"
     ]
    }
   ],
   "source": [
    "import pprint\n",
    "\n",
    "pprint.pprint(swimmers)"
   ]
  }
 ],
 "metadata": {
  "kernelspec": {
   "display_name": "python4ds",
   "language": "python",
   "name": "python3"
  },
  "language_info": {
   "codemirror_mode": {
    "name": "ipython",
    "version": 3
   },
   "file_extension": ".py",
   "mimetype": "text/x-python",
   "name": "python",
   "nbconvert_exporter": "python",
   "pygments_lexer": "ipython3",
   "version": "3.11.5"
  },
  "orig_nbformat": 4
 },
 "nbformat": 4,
 "nbformat_minor": 2
}
