{
 "cells": [
  {
   "cell_type": "markdown",
   "metadata": {},
   "source": [
    "## Working with databases\n",
    "- SQLite/ MySQL/ MariaDB/ PostgreSQL: SQL-based database technology\n",
    "\n",
    "### Tasks\n",
    "1. decide on a structure for data, then create database tables\n",
    "2. add data values to database tables\n",
    "3. extract data from database tables"
   ]
  },
  {
   "cell_type": "markdown",
   "metadata": {},
   "source": [
    "### Task1-decide on a structure for data, then create database tables\n"
   ]
  },
  {
   "cell_type": "code",
   "execution_count": 1,
   "metadata": {},
   "outputs": [],
   "source": [
    "# `DBcm` module\n",
    "import DBcm\n",
    "\n",
    "db_details = \"CoachDB.sqlite3\""
   ]
  },
  {
   "cell_type": "code",
   "execution_count": 2,
   "metadata": {},
   "outputs": [],
   "source": [
    "# `fetchall method` returns the output from the most-recently executed command as a list of tuples, which are assigned to variable `results`\n",
    "with DBcm.UseDatabase(db_details) as db:\n",
    "    db.execute(\"pragma table_list\")\n",
    "    results = db.fetchall()"
   ]
  },
  {
   "cell_type": "code",
   "execution_count": 3,
   "metadata": {},
   "outputs": [
    {
     "data": {
      "text/plain": [
       "[('main', 'sqlite_schema', 'table', 5, 0, 0),\n",
       " ('temp', 'sqlite_temp_schema', 'table', 5, 0, 0)]"
      ]
     },
     "execution_count": 3,
     "metadata": {},
     "output_type": "execute_result"
    }
   ],
   "source": [
    "# \"pragma table_list\": command sent to database\n",
    "# returns any tables that are internal to SQLite\n",
    "# -> \"sqlite_schema\", \"sqlite_temp_schema\"\n",
    "results"
   ]
  },
  {
   "cell_type": "code",
   "execution_count": 4,
   "metadata": {},
   "outputs": [
    {
     "data": {
      "text/plain": [
       "[('19:09:00',)]"
      ]
     },
     "execution_count": 4,
     "metadata": {},
     "output_type": "execute_result"
    }
   ],
   "source": [
    "SQL = \"\"\" \n",
    "    select time()\n",
    "    \"\"\"\n",
    "\n",
    "with DBcm.UseDatabase(db_details) as db:\n",
    "    db.execute(SQL)\n",
    "    results = db.fetchall() # `fetchall()`: list of tuples, `fetchone()`: single tuple\n",
    "    \n",
    "results"
   ]
  },
  {
   "cell_type": "code",
   "execution_count": 5,
   "metadata": {},
   "outputs": [],
   "source": [
    "SQL = \"\"\"\n",
    "    create table if not exists swimmers (\n",
    "        id integer not null primary key autoincrement,\n",
    "        name varchar(32) not null,\n",
    "        age integer not null\n",
    "    )\n",
    "\"\"\"\n",
    "\n",
    "with DBcm.UseDatabase(db_details) as db:\n",
    "    db.execute(SQL)"
   ]
  },
  {
   "cell_type": "code",
   "execution_count": 6,
   "metadata": {},
   "outputs": [
    {
     "data": {
      "text/plain": [
       "[('main', 'sqlite_sequence', 'table', 2, 0, 0),\n",
       " ('main', 'swimmers', 'table', 3, 0, 0),\n",
       " ('main', 'sqlite_schema', 'table', 5, 0, 0),\n",
       " ('temp', 'sqlite_temp_schema', 'table', 5, 0, 0)]"
      ]
     },
     "execution_count": 6,
     "metadata": {},
     "output_type": "execute_result"
    }
   ],
   "source": [
    "with DBcm.UseDatabase(db_details) as db:\n",
    "    db.execute(\"pragma table_list\")\n",
    "    results = db.fetchall()\n",
    "results"
   ]
  },
  {
   "cell_type": "code",
   "execution_count": 7,
   "metadata": {},
   "outputs": [
    {
     "data": {
      "text/plain": [
       "[('main', 'times', 'table', 4, 0, 0),\n",
       " ('main', 'events', 'table', 3, 0, 0),\n",
       " ('main', 'sqlite_sequence', 'table', 2, 0, 0),\n",
       " ('main', 'swimmers', 'table', 3, 0, 0),\n",
       " ('main', 'sqlite_schema', 'table', 5, 0, 0),\n",
       " ('temp', 'sqlite_temp_schema', 'table', 5, 0, 0)]"
      ]
     },
     "execution_count": 7,
     "metadata": {},
     "output_type": "execute_result"
    }
   ],
   "source": [
    "with DBcm.UseDatabase(db_details) as db:\n",
    "    SQL_1 = \"\"\"\n",
    "        create table if not exists events (\n",
    "            id integer not null primary key autoincrement,\n",
    "            distance varchar(16) not null,\n",
    "            stroke varchar(16) not null\n",
    "        )\n",
    "    \"\"\"\n",
    "    SQL_2 = \"\"\"\n",
    "        create table if not exists times (\n",
    "        swimmer_id integer not null,\n",
    "        event_id integer not null,\n",
    "        time varchar(16) not null,\n",
    "        ts timestamp default current_timestamp\n",
    "        )\n",
    "    \"\"\"\n",
    "    db.execute(SQL_1)\n",
    "    db.execute(SQL_2)\n",
    "\n",
    "with DBcm.UseDatabase(db_details) as db:\n",
    "    db.execute(\"pragma table_list\")\n",
    "    results = db.fetchall()\n",
    "results"
   ]
  },
  {
   "cell_type": "markdown",
   "metadata": {},
   "source": [
    "### Task2-add data values to database tables"
   ]
  },
  {
   "cell_type": "markdown",
   "metadata": {},
   "source": [
    "#### `swimmers` table"
   ]
  },
  {
   "cell_type": "code",
   "execution_count": 8,
   "metadata": {},
   "outputs": [],
   "source": [
    "import os\n",
    "import pyprojroot as root\n",
    "\n",
    "FD = \"data/swimdata/\"\n",
    "\n",
    "files = os.listdir(root.here(FD))\n",
    "files.remove(\".DS_Store\")"
   ]
  },
  {
   "cell_type": "code",
   "execution_count": 9,
   "metadata": {},
   "outputs": [
    {
     "name": "stdout",
     "output_type": "stream",
     "text": [
      "Abi-10-100m-Back.txt\n"
     ]
    },
    {
     "data": {
      "text/plain": [
       "('Abi', '10')"
      ]
     },
     "execution_count": 9,
     "metadata": {},
     "output_type": "execute_result"
    }
   ],
   "source": [
    "first = files[0]\n",
    "print(first)\n",
    "name, age, _, _ = first.removesuffix(\".txt\").split(\"-\")\n",
    "name, age"
   ]
  },
  {
   "cell_type": "code",
   "execution_count": 10,
   "metadata": {},
   "outputs": [],
   "source": [
    "import DBcm\n",
    "\n",
    "db_details = \"CoachDB.sqlite3\""
   ]
  },
  {
   "cell_type": "code",
   "execution_count": 11,
   "metadata": {},
   "outputs": [],
   "source": [
    "SQL_INSERT = \"\"\" \n",
    "    insert into swimmers\n",
    "    (name, age)\n",
    "    values\n",
    "    (?, ?)\n",
    "\"\"\""
   ]
  },
  {
   "cell_type": "code",
   "execution_count": 12,
   "metadata": {},
   "outputs": [],
   "source": [
    "with DBcm.UseDatabase(db_details) as db:\n",
    "    db.execute(SQL_INSERT, (name, age))\n"
   ]
  },
  {
   "cell_type": "code",
   "execution_count": 13,
   "metadata": {},
   "outputs": [
    {
     "data": {
      "text/plain": [
       "[(1, 'Abi', 10)]"
      ]
     },
     "execution_count": 13,
     "metadata": {},
     "output_type": "execute_result"
    }
   ],
   "source": [
    "SQL = \"\"\" \n",
    "    select * from swimmers\n",
    "\"\"\"\n",
    "\n",
    "with DBcm.UseDatabase(db_details) as db:\n",
    "    db.execute(SQL)\n",
    "    results = db.fetchall()\n",
    "\n",
    "results"
   ]
  },
  {
   "cell_type": "code",
   "execution_count": 14,
   "metadata": {},
   "outputs": [],
   "source": [
    "SQL_DELETE = \"\"\" \n",
    "    delete from swimmers\n",
    "\"\"\"\n",
    "\n",
    "with DBcm.UseDatabase(db_details) as db:\n",
    "    db.execute(SQL_DELETE)"
   ]
  },
  {
   "cell_type": "code",
   "execution_count": 15,
   "metadata": {},
   "outputs": [
    {
     "data": {
      "text/plain": [
       "[]"
      ]
     },
     "execution_count": 15,
     "metadata": {},
     "output_type": "execute_result"
    }
   ],
   "source": [
    "SQL = \"\"\" \n",
    "    select * from swimmers\n",
    "\"\"\"\n",
    "\n",
    "with DBcm.UseDatabase(db_details) as db:\n",
    "    db.execute(SQL)\n",
    "    results = db.fetchall()\n",
    "\n",
    "results"
   ]
  },
  {
   "cell_type": "code",
   "execution_count": 16,
   "metadata": {},
   "outputs": [],
   "source": [
    "import os\n",
    "import pyprojroot as here\n",
    "\n",
    "FD = \"data/swimdata/\"\n",
    "db_details = \"CoachDB.sqlite3\"\n",
    "\n",
    "files = os.listdir(here.here(FD))\n",
    "files.remove(\".DS_Store\")\n",
    "\n",
    "SQL_SELECT = \"\"\"\n",
    "    select * from swimmers\n",
    "    where name = ? and age = ?\n",
    "\"\"\"\n",
    "\n",
    "SQL_INSERT = \"\"\"\n",
    "    insert into swimmers\n",
    "    (name, age)\n",
    "    values\n",
    "    (?, ?)\n",
    "\"\"\"\n",
    "\n",
    "with DBcm.UseDatabase(db_details) as db:\n",
    "    for fn in files:\n",
    "        name, age, _, _ = fn.removesuffix(\".txt\").split(\"-\")\n",
    "        db.execute(SQL_SELECT, (name, age))\n",
    "        if db.fetchall():\n",
    "            continue\n",
    "        db.execute(SQL_INSERT, (name, age))"
   ]
  },
  {
   "cell_type": "markdown",
   "metadata": {},
   "source": [
    "#### `events` table"
   ]
  },
  {
   "cell_type": "code",
   "execution_count": 18,
   "metadata": {},
   "outputs": [],
   "source": [
    "import os\n",
    "import pyprojroot as here\n",
    "\n",
    "FD = \"data/swimdata/\"\n",
    "db_details = \"CoachDB.sqlite3\"\n",
    "\n",
    "files = os.listdir(here.here(FD))\n",
    "files.remove(\".DS_Store\")\n",
    "\n",
    "SQL_SELECT = \"\"\"\n",
    "    select * from events\n",
    "    where distance = ? and stroke = ?\n",
    "\"\"\"\n",
    "\n",
    "SQL_INSERT = \"\"\"\n",
    "    insert into events\n",
    "    (distance, stroke)\n",
    "    values\n",
    "    (?, ?)\n",
    "\"\"\"\n",
    "\n",
    "with DBcm.UseDatabase(db_details) as db:\n",
    "    for fn in files:\n",
    "        _, _, distance, stroke = fn.removesuffix(\".txt\").split(\"-\")\n",
    "        db.execute(SQL_SELECT, (distance, stroke))\n",
    "        if db.fetchall():\n",
    "            continue\n",
    "        db.execute(SQL_INSERT, (distance, stroke))"
   ]
  },
  {
   "cell_type": "code",
   "execution_count": 19,
   "metadata": {},
   "outputs": [
    {
     "data": {
      "text/plain": [
       "[(1, '100m', 'Back'),\n",
       " (2, '100m', 'Breast'),\n",
       " (3, '50m', 'Back'),\n",
       " (4, '50m', 'Breast'),\n",
       " (5, '50m', 'Free'),\n",
       " (6, '100m', 'Free'),\n",
       " (7, '200m', 'Back'),\n",
       " (8, '100m', 'Fly'),\n",
       " (9, '50m', 'Fly'),\n",
       " (10, '200m', 'IM'),\n",
       " (11, '200m', 'Breast'),\n",
       " (12, '200m', 'Free'),\n",
       " (13, '400m', 'Free')]"
      ]
     },
     "execution_count": 19,
     "metadata": {},
     "output_type": "execute_result"
    }
   ],
   "source": [
    "SQL = \"\"\" select * from events\"\"\"\n",
    "\n",
    "with DBcm.UseDatabase(db_details) as db:\n",
    "    db.execute(SQL)\n",
    "    results = db.fetchall()\n",
    "\n",
    "results"
   ]
  },
  {
   "cell_type": "code",
   "execution_count": 20,
   "metadata": {},
   "outputs": [
    {
     "data": {
      "text/plain": [
       "[(2, 'Abi', 10),\n",
       " (3, 'Ali', 12),\n",
       " (4, 'Alison', 14),\n",
       " (5, 'Aurora', 13),\n",
       " (6, 'Bill', 18),\n",
       " (7, 'Blake', 15),\n",
       " (8, 'Calvin', 9),\n",
       " (9, 'Carl', 15),\n",
       " (10, 'Chris', 17),\n",
       " (11, 'Darius', 13),\n",
       " (12, 'Dave', 17),\n",
       " (13, 'Elba', 14),\n",
       " (14, 'Emma', 13),\n",
       " (15, 'Erika', 15),\n",
       " (16, 'Hannah', 13),\n",
       " (17, 'Katie', 9),\n",
       " (18, 'Lizzie', 14),\n",
       " (19, 'Maria', 9),\n",
       " (20, 'Mike', 15),\n",
       " (21, 'Owen', 15),\n",
       " (22, 'Ruth', 13),\n",
       " (23, 'Tasmin', 15)]"
      ]
     },
     "execution_count": 20,
     "metadata": {},
     "output_type": "execute_result"
    }
   ],
   "source": [
    "SQL = \"\"\" select * from swimmers\"\"\"\n",
    "\n",
    "with DBcm.UseDatabase(db_details) as db:\n",
    "    db.execute(SQL)\n",
    "    results = db.fetchall()\n",
    "\n",
    "results"
   ]
  },
  {
   "cell_type": "markdown",
   "metadata": {},
   "source": [
    "#### `times` table"
   ]
  },
  {
   "cell_type": "code",
   "execution_count": 21,
   "metadata": {},
   "outputs": [
    {
     "data": {
      "text/plain": [
       "[(0, 'swimmer_id', 'INTEGER', 1, None, 0),\n",
       " (1, 'event_id', 'INTEGER', 1, None, 0),\n",
       " (2, 'time', 'varchar(16)', 1, None, 0),\n",
       " (3, 'ts', 'timestamp', 0, 'current_timestamp', 0)]"
      ]
     },
     "execution_count": 21,
     "metadata": {},
     "output_type": "execute_result"
    }
   ],
   "source": [
    "with DBcm.UseDatabase(db_details) as db:\n",
    "    db.execute(\"pragma table_info(times)\")\n",
    "    results = db.fetchall()\n",
    "\n",
    "results"
   ]
  },
  {
   "cell_type": "code",
   "execution_count": 22,
   "metadata": {},
   "outputs": [],
   "source": [
    "SQL_GET_SWIMMER = \"\"\" \n",
    "    select id from swimmers\n",
    "    where name = ? and age = ?\n",
    "\"\"\"\n",
    "\n",
    "SQL_GET_EVENT = \"\"\"\n",
    "    select id from events\n",
    "    where distance = ? and stroke = ?\n",
    "\"\"\"\n",
    "\n",
    "SQL_INSERT = \"\"\" \n",
    "    insert into times\n",
    "    (swimmer_id, event_id, time)\n",
    "    values\n",
    "    (?, ?, ?)\n",
    "\"\"\"\n",
    "\n",
    "with DBcm.UseDatabase(db_details) as db:\n",
    "    for fn in files:\n",
    "        name, age, distance, stroke = fn.removesuffix(\".txt\").split(\"-\")\n",
    "        db.execute(SQL_GET_SWIMMER, (name, age))\n",
    "        s_id = db.fetchone()[0]\n",
    "        db.execute(SQL_GET_EVENT, (distance, stroke))\n",
    "        e_id = db.fetchone()[0]\n",
    "        with open(here.here(FD + fn)) as sf:\n",
    "            times = sf.read().strip().split(\",\")\n",
    "            for t in times:\n",
    "                db.execute(SQL_INSERT, (s_id, e_id, t))"
   ]
  },
  {
   "cell_type": "code",
   "execution_count": 23,
   "metadata": {},
   "outputs": [
    {
     "data": {
      "text/plain": [
       "338"
      ]
     },
     "execution_count": 23,
     "metadata": {},
     "output_type": "execute_result"
    }
   ],
   "source": [
    "# `count(*)`: count number of rows\n",
    "SQL = \"\"\" select count(*) from times\"\"\"\n",
    "\n",
    "with DBcm.UseDatabase(db_details) as db:\n",
    "    db.execute(SQL)\n",
    "    results = db.fetchone()[0]\n",
    "\n",
    "results"
   ]
  },
  {
   "cell_type": "code",
   "execution_count": 24,
   "metadata": {},
   "outputs": [
    {
     "data": {
      "text/plain": [
       "[(2, 1, '1:31.59', '2023-09-14 21:41:01'),\n",
       " (2, 1, '1:26.55', '2023-09-14 21:41:01'),\n",
       " (2, 1, '1:28.75', '2023-09-14 21:41:01'),\n",
       " (2, 1, '1:39.79', '2023-09-14 21:41:01'),\n",
       " (2, 1, '1:32.37', '2023-09-14 21:41:01'),\n",
       " (2, 2, '1:42.97', '2023-09-14 21:41:01'),\n",
       " (2, 2, '1:43.31', '2023-09-14 21:41:01'),\n",
       " (2, 2, '1:43.50', '2023-09-14 21:41:01'),\n",
       " (2, 2, '1:40.34', '2023-09-14 21:41:01'),\n",
       " (2, 3, '41.50', '2023-09-14 21:41:01')]"
      ]
     },
     "execution_count": 24,
     "metadata": {},
     "output_type": "execute_result"
    }
   ],
   "source": [
    "# display the first 10 rows\n",
    "SQL = \"\"\"\n",
    "    select * from times limit 10\n",
    "\"\"\"\n",
    "\n",
    "with DBcm.UseDatabase(db_details) as db:\n",
    "    db.execute(SQL)\n",
    "    results = db.fetchall()\n",
    "\n",
    "results"
   ]
  }
 ],
 "metadata": {
  "kernelspec": {
   "display_name": "python4ds",
   "language": "python",
   "name": "python3"
  },
  "language_info": {
   "codemirror_mode": {
    "name": "ipython",
    "version": 3
   },
   "file_extension": ".py",
   "mimetype": "text/x-python",
   "name": "python",
   "nbconvert_exporter": "python",
   "pygments_lexer": "ipython3",
   "version": "3.11.5"
  },
  "orig_nbformat": 4
 },
 "nbformat": 4,
 "nbformat_minor": 2
}
